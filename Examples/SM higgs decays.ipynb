{
 "cells": [
  {
   "cell_type": "code",
   "execution_count": 1,
   "metadata": {},
   "outputs": [],
   "source": [
    "from spacemathpy import *"
   ]
  },
  {
   "cell_type": "code",
   "execution_count": 2,
   "metadata": {},
   "outputs": [],
   "source": [
    "import numpy as np\n",
    "import matplotlib.pyplot as plt\n",
    "#%matplotlib qt\n",
    "%matplotlib inline"
   ]
  },
  {
   "cell_type": "code",
   "execution_count": 8,
   "metadata": {},
   "outputs": [],
   "source": [
    "SM = HiggsCouplings()\n",
    "SM.model = 'SM Higgs couplings'\n",
    "SM.ghtt = lambda tipo: mt[tipo]/(SMvev[tipo])\n",
    "SM.ghbb = lambda tipo: mb[tipo]/(SMvev[tipo])\n",
    "SM.ghtautau = lambda tipo: mtau[tipo]/(SMvev[tipo])\n",
    "SM.ghWW = lambda tipo: g[tipo]*mW[tipo]\n",
    "SM.ghZZ = lambda tipo: g[tipo]*mZ[tipo]/cW[tipo]"
   ]
  },
  {
   "cell_type": "code",
   "execution_count": 4,
   "metadata": {},
   "outputs": [
    {
     "data": {
      "text/plain": [
       "0.02169982765227521"
      ]
     },
     "execution_count": 4,
     "metadata": {},
     "output_type": "execute_result"
    }
   ],
   "source": [
    "mhiggs = mh['value']#np.linspace(100,1000,1000)\n",
    "\n",
    "v ='value'\n",
    "Whtt = WidthHff(SM.ghtt(v),1,mt[v],mt[v],mhiggs)\n",
    "Whtt = np.nan_to_num(Whtt)\n",
    "Whww = WidthHWW(SM.ghWW(v),mhiggs)\n",
    "Whww = np.nan_to_num(Whww)\n",
    "Whzz = WidthHZZ(SM.ghZZ(v),mhiggs)\n",
    "Whzz = np.nan_to_num(Whzz)\n",
    "\n",
    "totw = (WidthHgg(SM.ghtt(v),SM.ghbb(v),mhiggs) + \n",
    "       WidthHff(SM.ghtautau(v),1,mtau[v],mtau[v],mhiggs) + \n",
    "       Whtt + \n",
    "       WidthHff(SM.ghbb(v),3,mb[v],mb[v],mhiggs) + \n",
    "       Whww + \n",
    "       Whzz)\n",
    "totw"
   ]
  },
  {
   "cell_type": "code",
   "execution_count": 5,
   "metadata": {},
   "outputs": [
    {
     "data": {
      "image/png": "[encoded data removed]",
      "text/plain": [
       "<Figure size 720x576 with 1 Axes>"
      ]
     },
     "metadata": {
      "needs_background": "light"
     },
     "output_type": "display_data"
    }
   ],
   "source": [
    "fig = plt.figure(figsize=(10,8))\n",
    "plt.semilogy(mhiggs,WidthHgg(SM.ghtt(v),SM.ghbb(v),mhiggs),'.',label='g')\n",
    "plt.semilogy(mhiggs,WidthHff(SM.ghtautau(v),1,mtau[v],mtau[v],mhiggs),'.',label=r'$\\tau$')\n",
    "plt.semilogy(mhiggs,Whtt,'.',label='t')\n",
    "plt.semilogy(mhiggs,WidthHff(SM.ghbb(v),1,mb[v],mb[v],mhiggs),'.',label='b')\n",
    "plt.semilogy(mhiggs,Whww,'.',label='$W W^*$')\n",
    "plt.semilogy(mhiggs,Whzz,'.',label='$Z Z^*$')\n",
    "#plt.grid()\n",
    "plt.legend(loc='lower right')\n",
    "plt.show()"
   ]
  },
  {
   "cell_type": "code",
   "execution_count": 7,
   "metadata": {},
   "outputs": [
    {
     "data": {
      "text/plain": [
       "<matplotlib.legend.Legend at 0x7fbf6682bd50>"
      ]
     },
     "execution_count": 7,
     "metadata": {},
     "output_type": "execute_result"
    },
    {
     "data": {
      "image/png": "[encoded data removed]",
      "text/plain": [
       "<Figure size 720x576 with 1 Axes>"
      ]
     },
     "metadata": {
      "needs_background": "light"
     },
     "output_type": "display_data"
    }
   ],
   "source": [
    "fig = plt.figure(figsize=(10,8))\n",
    "plt.semilogy(mhiggs,WidthHgg(SM.ghtt(v),SM.ghbb(v),mhiggs)/totw,'.',label='g')\n",
    "plt.semilogy(mhiggs,WidthHff(SM.ghtautau(v),1,mtau['value'],mtau['value'],mhiggs)/totw,'.',label=r'$\\tau$')\n",
    "plt.semilogy(mhiggs,Whtt/totw,'.',label='t')\n",
    "plt.semilogy(mhiggs,WidthHff(SM.ghbb(v),1,mb['value'],mb['value'],mhiggs)/totw,'.',label='b')\n",
    "plt.semilogy(mhiggs,Whww/totw,'.',label='$W W^*$')\n",
    "plt.semilogy(mhiggs,Whzz/totw,'.',label='$Z Z^*$')\n",
    "plt.ylim((1e-4,1))\n",
    "plt.legend()"
   ]
  },
  {
   "cell_type": "code",
   "execution_count": null,
   "metadata": {},
   "outputs": [],
   "source": []
  }
 ],
 "metadata": {
  "kernelspec": {
   "display_name": "Python 3",
   "language": "python",
   "name": "python3"
  },
  "language_info": {
   "codemirror_mode": {
    "name": "ipython",
    "version": 3
   },
   "file_extension": ".py",
   "mimetype": "text/x-python",
   "name": "python",
   "nbconvert_exporter": "python",
   "pygments_lexer": "ipython3",
   "version": "3.7.6"
  }
 },
 "nbformat": 4,
 "nbformat_minor": 4
}
