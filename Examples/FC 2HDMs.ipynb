{
 "cells": [
  {
   "cell_type": "markdown",
   "metadata": {},
   "source": [
    "# Flavour conserving 2HDMs."
   ]
  },
  {
   "cell_type": "markdown",
   "metadata": {},
   "source": [
    "The flavour conserving 2HDM's are clasified as follows in the next table [Exclusive Signals of an Extended Higgs Sector](https://arxiv.org/abs/1207.4835)\n",
    "\n",
    "\\begin{array}{|c|c|c|c|c|}\n",
    "\\hline & \\text { 2HDM I } & \\text { 2HDM II } & \\text { 2HDM III } & \\text { 2HDM IV } \\\\\n",
    "\\hline u & \\Phi_{2} & \\Phi_{2} & \\Phi_{2} & \\Phi_{2} \\\\\n",
    "d & \\Phi_{2} & \\Phi_{1} & \\Phi_{2} & \\Phi_{1} \\\\\n",
    "e & \\Phi_{2} & \\Phi_{1} & \\Phi_{1} & \\Phi_{2} \\\\\n",
    "\\hline\n",
    "\\end{array}\n",
    "\n",
    "In some references, type III and IV are called Lepton-specific and Flipped respectively.\n",
    "\n",
    "In the case of Higgs signals strenghts contraints the important parameters of each model are the higgs couplings with SM particles which are given in the next table.\n",
    "\n",
    "\\begin{array}{|c|c|c|c|c|}\n",
    "\\hline & \\text { 2HDM I } & \\text { 2HDM II } & \\text { 2HDM III } & \\text { 2HDM IV } \\\\\n",
    "\\hline h V V & \\sin (\\beta-\\alpha) & \\sin (\\beta-\\alpha) & \\sin (\\beta-\\alpha) & \\sin (\\beta-\\alpha) \\\\\n",
    "h Q u & \\cos \\alpha / \\sin \\beta & \\cos \\alpha / \\sin \\beta & \\cos \\alpha / \\sin \\beta & \\cos \\alpha / \\sin \\beta \\\\\n",
    "h Q d & \\cos \\alpha / \\sin \\beta & -\\sin \\alpha / \\cos \\beta & \\cos \\alpha / \\sin \\beta & -\\sin \\alpha / \\cos \\beta \\\\\n",
    "h L e & \\cos \\alpha / \\sin \\beta & -\\sin \\alpha / \\cos \\beta & -\\sin \\alpha / \\cos \\beta & \\cos \\alpha / \\sin \\beta \\\\\n",
    "\\hline\n",
    "\\end{array}\n"
   ]
  },
  {
   "cell_type": "markdown",
   "metadata": {},
   "source": [
    "## Signal strength modifiers $\\mathcal{R}_{X}$\n",
    "For a production process $\\sigma(pp\\to H_i)$ and a decay $H_i\\to X$, the signal strength is defined as follows:\n",
    "\n",
    "\\begin{equation}\n",
    "\\mathcal{R}_{X}=\\frac{\\sigma(pp\\to h)\\cdot\\mathcal{BR}(h\\to X)}{\\sigma(pp\\to h^{\\text{SM}})\\cdot\\mathcal{BR}(h^{\\text{SM}}\\to X)},\n",
    "\\end{equation}\n",
    "where $\\sigma(pp\\to H_i)$ is the production cross section of $H_i$, with $H_i=h,\\,h^{\\text{SM}}$; here $h$ is the SM-like Higgs boson coming from an extension of the SM and $h^{\\text{SM}}$ is the SM Higgs boson; $\\mathcal{BR}(H_i\\to X)$ is the branching ratio of the decay $H_i\\to X$, with $X=b\\bar{b},\\;\\tau^-\\tau^+,\\;\\mu^-\\mu^+,\\;WW^*,\\;ZZ^*,\\;\\gamma\\gamma$.\n",
    "In the version 1.0, we only consider the Higgs boson production cross section via the gluon fusion mechanism and we use the narrow width approximation:\n",
    "\\begin{equation}\n",
    "\\mathcal{R}_{X}\\approx\\frac{\\Gamma(h\\to gg)\\cdot\\mathcal{BR}(h\\to X)}{\\Gamma(h^{\\text{SM}}\\to gg)\\cdot\\mathcal{BR}(h^{\\text{SM}}\\to X)}.\n",
    "\\end{equation}"
   ]
  },
  {
   "cell_type": "code",
   "execution_count": null,
   "metadata": {},
   "outputs": [],
   "source": []
  }
 ],
 "metadata": {
  "kernelspec": {
   "display_name": "Python 3",
   "language": "python",
   "name": "python3"
  },
  "language_info": {
   "codemirror_mode": {
    "name": "ipython",
    "version": 3
   },
   "file_extension": ".py",
   "mimetype": "text/x-python",
   "name": "python",
   "nbconvert_exporter": "python",
   "pygments_lexer": "ipython3",
   "version": "3.7.6"
  }
 },
 "nbformat": 4,
 "nbformat_minor": 4
}
