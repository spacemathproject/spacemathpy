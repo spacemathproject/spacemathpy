{
 "cells": [
  {
   "cell_type": "code",
   "execution_count": 1,
   "metadata": {
    "Collapsed": "false"
   },
   "outputs": [],
   "source": [
    "from spacemathpy import *\n",
    "import matplotlib.pyplot as plt\n",
    "%matplotlib inline"
   ]
  },
  {
   "cell_type": "markdown",
   "metadata": {
    "Collapsed": "false"
   },
   "source": [
    "# 2HDM"
   ]
  },
  {
   "cell_type": "markdown",
   "metadata": {
    "Collapsed": "false"
   },
   "source": [
    "## Higgs couplings with fermions\n",
    "In the context of 2HDM-III, the couplings $g_{htt}$, $g_{hbb}$, $g_{h\\tau\\tau}$ can be extracted of:\n",
    "\n",
    "$$\\mathcal{L}_Y^{q} = \\frac{g}{2}\\left(\\frac{m_{d_{m}}}{m_{W}}\\right) d_{m}\\left[\\frac{\\cos \\sqrt{\\alpha}}{\\cos \\left[\\frac{\\cos }{\\cos }\\right] \\delta} | \\delta_{m n}+\\frac{\\sqrt{2} \\sqrt{\\operatorname{sen}(\\alpha-\\beta)}}{g \\cos \\beta}\\left(\\frac{m_{W}}{m_{d m}}\\right)(\\overline{Y_{2}^{d}})_{m n}\\right] | d_{n} H^{0}$$\n",
    "$$+\\frac{g}{2}\\left(\\frac{m_{d_{m}}}{m_{W}}\\right) d_{m}\\left[-\\frac{\\operatorname{sen} \\alpha}{\\cos \\beta} \\delta_{m n}+\\frac{\\sqrt{2} \\cos (\\alpha-\\beta)}{g \\cos \\beta}\\left(\\frac{m_{W}}{m_{d_{m}}}\\right)\\left(\\tilde{Y}_{2}^{d}\\right)_{m n}\\right] d_{n} h^{0}$$\n",
    "$$+\\frac{i g}{2}\\left(\\frac{m_{d_{m}}}{m_{W}}\\right) \\bar{d}_{m}\\left[-\\tan \\beta \\delta_{m n}+\\frac{\\sqrt{2}}{g \\cos \\beta}\\left(\\frac{m_{W}}{m_{d_{m}}}\\right)\\left(\\tilde{Y}_{2}^{d}\\right)_{m n}\\right] \\gamma^{5} d_{n} A^{0}$$\n",
    "$$+\\frac{g}{2}\\left(\\frac{m_{u_m}}{m_{W}}\\right) \\bar{u}_{m}\\left[\\frac{\\operatorname{sen} \\alpha}{\\operatorname{sen} \\beta} \\delta_{m n}-\\frac{\\sqrt{2} \\operatorname{sen}(\\alpha-\\beta)}{g \\operatorname{sen} \\beta}\\left(\\frac{m_{W}}{m_{u_{m}}}\\right)\\left(\\tilde{Y}_{1}^{u}\\right)_{m n}\\right] u_{n} H^{0}$$\n",
    "$$+\\frac{g}{2}\\left(\\frac{m_{u_{m}}}{m_{W}}\\right) \\bar{u}_{m}\\left[\\frac{\\cos \\alpha}{\\operatorname{sen} \\beta} \\delta_{m n}-\\frac{\\sqrt{2} \\cos (\\alpha-\\beta)}{g \\operatorname{sen} \\beta}\\left(\\frac{m_{W}}{m_{u_{m}}}\\right)\\left(\\bar{Y}_{1}^{u}\\right)_{m n}\\right] u_{n} h^{0}$$\n",
    "$$+\\frac{i g}{2}\\left(\\frac{m_{u_{m}}}{m_{W}}\\right) \\bar{u}_{m}\\left[-\\cot \\beta \\delta_{m n}+\\frac{\\sqrt{2}}{g \\operatorname{sen} \\beta}\\left(\\frac{m_{W}}{m_{u_{m}}}\\right)\\left(\\tilde{Y}_{1}^{u}\\right)_{m n}\\right] \\gamma^{5} u_{n} A^{0}.$$\n",
    "\n",
    "In python these couplings can be defined as functions $\\alpha$, $\\tan{\\beta}$ and $C_{\\alpha \\beta} = \\cos{(\\alpha - \\beta)}$ as follows"
   ]
  },
  {
   "cell_type": "code",
   "execution_count": 2,
   "metadata": {
    "Collapsed": "false"
   },
   "outputs": [],
   "source": [
    "#2HDM-III\n",
    "def ghtt_2hdm(α,Att,Cab,tb):\n",
    "    global mW,mt,g,SMvev\n",
    "    if issymbolic(α,Att,Cab,tb):\n",
    "        MW,Mt= mW['symbol'],mt['symbol']\n",
    "        return (g['symbol']/2)*(Mt/MW)*(-sp.cos(α)/tb*sp.cos(sp.atan(tb)) + \n",
    "                sp.sqrt(2)*Cab/(g['symbol']*tb*sp.cos(sp.atan(tb)))*(MW/Mt)*(\n",
    "                    Mt/SMvev['symbol'])*Att)\n",
    "    else:\n",
    "        MW,Mt= mW['value'],mt['value']\n",
    "        return (g['value']/2)*(Mt/MW)*(-np.cos(α)/tb*np.cos(np.arctan(tb)) + \n",
    "                np.sqrt(2)*Cab/(g['value']*tb*np.cos(np.arctan(tb)))*(MW/Mt)*(\n",
    "                    Mt/SMvev['value'])*Att)"
   ]
  },
  {
   "cell_type": "markdown",
   "metadata": {
    "Collapsed": "false"
   },
   "source": [
    "symbolic definition of variables"
   ]
  },
  {
   "cell_type": "code",
   "execution_count": 3,
   "metadata": {
    "Collapsed": "false"
   },
   "outputs": [
    {
     "data": {
      "image/png": "[encoded data removed]",
      "text/latex": [
       "$\\displaystyle \\frac{g m_{t} \\left(\\frac{\\sqrt{2} A_{tt} C_{ab} m_{W} \\sqrt{t_{b}^{2} + 1}}{g t_{b} v} - \\frac{\\cos{\\left(\\alpha \\right)}}{t_{b} \\sqrt{t_{b}^{2} + 1}}\\right)}{2 m_{W}}$"
      ],
      "text/plain": [
       "     ⎛                        __________                    ⎞\n",
       "     ⎜                       ╱    2                         ⎟\n",
       "     ⎜√2⋅A_{tt}⋅C_{ab}⋅m_W⋅╲╱  t_b  + 1          cos(α)     ⎟\n",
       "g⋅mₜ⋅⎜────────────────────────────────── - ─────────────────⎟\n",
       "     ⎜             g⋅t_b⋅v                        __________⎟\n",
       "     ⎜                                           ╱    2     ⎟\n",
       "     ⎝                                     t_b⋅╲╱  t_b  + 1 ⎠\n",
       "─────────────────────────────────────────────────────────────\n",
       "                            2⋅m_W                            "
      ]
     },
     "execution_count": 3,
     "metadata": {},
     "output_type": "execute_result"
    }
   ],
   "source": [
    "a,Att,Cab,tb = sp.symbols('alpha,A_{tt},C_{ab},t_b')\n",
    "ghtt_2hdm(a,Att,Cab,tb)"
   ]
  },
  {
   "cell_type": "markdown",
   "metadata": {
    "Collapsed": "false"
   },
   "source": [
    "numeric evaluation"
   ]
  },
  {
   "cell_type": "code",
   "execution_count": 4,
   "metadata": {
    "Collapsed": "false"
   },
   "outputs": [
    {
     "data": {
      "image/png": "[encoded data removed]",
      "text/latex": [
       "$\\displaystyle -1.545764653436345$"
      ],
      "text/plain": [
       "-1.545764653436345"
      ]
     },
     "execution_count": 4,
     "metadata": {},
     "output_type": "execute_result"
    }
   ],
   "source": [
    "ghtt_2hdm(0.1,0.2,0.3,0.4)"
   ]
  },
  {
   "cell_type": "code",
   "execution_count": 5,
   "metadata": {
    "Collapsed": "false"
   },
   "outputs": [],
   "source": [
    "def ghbb_2hdm(α,Abb,Cab,tb):\n",
    "    global mW,mb,g,SMvev\n",
    "    if issymbolic(α,Abb,Cab,tb):\n",
    "        MW,Mb= mW['symbol'],mb['symbol']\n",
    "        return (g['symbol']/2)*(Mb/MW)*(-sp.sin(α)*tb/sp.sin(sp.atan(tb)) + \n",
    "                sp.sqrt(2)*(Cab*tb)/(g['symbol']*sp.sin(sp.atan(tb)))*(MW/Mb)*(\n",
    "                    Mb/SMvev['symbol'])*Abb)\n",
    "    else:\n",
    "        MW,Mb= mW['value'],mb['value']\n",
    "        return (g['value']/2)*(Mb/MW)*(-np.sin(α)*tb/np.sin(np.arctan(tb)) + \n",
    "                np.sqrt(2)*(Cab*tb)/(g['value']*np.sin(np.arctan(tb)))*(MW/Mb)*(\n",
    "                    Mb/SMvev['value'])*Abb)"
   ]
  },
  {
   "cell_type": "markdown",
   "metadata": {
    "Collapsed": "false"
   },
   "source": [
    "symbolic evaluation"
   ]
  },
  {
   "cell_type": "code",
   "execution_count": 6,
   "metadata": {
    "Collapsed": "false"
   },
   "outputs": [
    {
     "data": {
      "image/png": "[encoded data removed]",
      "text/latex": [
       "$\\displaystyle \\frac{g m_{b} \\left(\\frac{\\sqrt{2} A_{bb} C_{ab} m_{W} \\sqrt{t_{b}^{2} + 1}}{g v} - \\sqrt{t_{b}^{2} + 1} \\sin{\\left(\\alpha \\right)}\\right)}{2 m_{W}}$"
      ],
      "text/plain": [
       "      ⎛                      __________                       ⎞\n",
       "      ⎜                     ╱    2           __________       ⎟\n",
       "      ⎜√2⋅A_bb⋅C_{ab}⋅m_W⋅╲╱  t_b  + 1      ╱    2            ⎟\n",
       "g⋅m_b⋅⎜──────────────────────────────── - ╲╱  t_b  + 1 ⋅sin(α)⎟\n",
       "      ⎝              g⋅v                                      ⎠\n",
       "───────────────────────────────────────────────────────────────\n",
       "                             2⋅m_W                             "
      ]
     },
     "execution_count": 6,
     "metadata": {},
     "output_type": "execute_result"
    }
   ],
   "source": [
    "Abb = sp.symbols('A_bb')    \n",
    "ghbb_2hdm(a,Abb,Cab,tb)"
   ]
  },
  {
   "cell_type": "markdown",
   "metadata": {
    "Collapsed": "false"
   },
   "source": [
    "numeric evaluation"
   ]
  },
  {
   "cell_type": "code",
   "execution_count": 7,
   "metadata": {
    "Collapsed": "false"
   },
   "outputs": [
    {
     "data": {
      "image/png": "[encoded data removed]",
      "text/latex": [
       "$\\displaystyle -0.0010505944329082069$"
      ],
      "text/plain": [
       "-0.0010505944329082069"
      ]
     },
     "execution_count": 7,
     "metadata": {},
     "output_type": "execute_result"
    }
   ],
   "source": [
    "ghbb_2hdm(0.1,0.2,0.3,0.4)"
   ]
  },
  {
   "cell_type": "code",
   "execution_count": 8,
   "metadata": {
    "Collapsed": "false"
   },
   "outputs": [
    {
     "data": {
      "image/png": "[encoded data removed]",
      "text/latex": [
       "$\\displaystyle -0.00033946954860783365$"
      ],
      "text/plain": [
       "-0.00033946954860783365"
      ]
     },
     "execution_count": 8,
     "metadata": {},
     "output_type": "execute_result"
    }
   ],
   "source": [
    "def ghtautau_2hdm(α,Atata,Cab,tb):\n",
    "    global mW,mta,g,SMvev\n",
    "    if issymbolic(α,Atata,Cab,tb):\n",
    "        MW,Mtau= mW['symbol'],mta['symbol']\n",
    "        return (g['symbol']/2)*(Mtau/MW)*(-sp.sin(α)*tb/sp.sin(sp.atan(tb)) + \n",
    "                sp.sqrt(2)*(Cab*tb)/(g['symbol']*sp.sin(sp.atan(tb)))*(MW/Mtau)*(\n",
    "                    Mtau/SMvev['symbol'])*Atata)\n",
    "    else:\n",
    "        MW,Mtau= mW['value'],mta['value']\n",
    "        return (g['value']/2)*(Mtau/MW)*(-np.sin(α)/tb*np.sin(np.arctan(tb)) + \n",
    "                np.sqrt(2)*(Cab*tb)/(g['value']*np.sin(np.arctan(tb)))*(MW/Mtau)*(\n",
    "                    Mtau/SMvev['value'])*Atata)\n",
    "\n",
    "Atata = sp.symbols(r'A_{\\tau\\tau}')    \n",
    "ghtautau_2hdm(a,Atata,Cab,tb)\n",
    "ghtautau_2hdm(0.1,0.2,0.3,0.4)"
   ]
  },
  {
   "cell_type": "markdown",
   "metadata": {
    "Collapsed": "false"
   },
   "source": [
    "## Higgs couplings with vector bosons\n",
    "In the case of $g_{hWW}$ and $g_{hZZ}$ the couplings in the $2HDM$ are given by\n",
    "\n",
    "$$\\mathcal{L}_{hVV} = g m_{V} \\sin{(\\alpha - \\beta)}$$ \n",
    "\n",
    "where $V = W,Z$. The corresponding functions in python are given as follow"
   ]
  },
  {
   "cell_type": "code",
   "execution_count": 9,
   "metadata": {
    "Collapsed": "false"
   },
   "outputs": [
    {
     "data": {
      "image/png": "[encoded data removed]",
      "text/latex": [
       "$\\displaystyle 5.252669626829269$"
      ],
      "text/plain": [
       "5.252669626829269"
      ]
     },
     "execution_count": 9,
     "metadata": {},
     "output_type": "execute_result"
    }
   ],
   "source": [
    "def ghww_2hdm(sab):\n",
    "    global mW,g\n",
    "    if issymbolic(sab):\n",
    "        MW,gg= mW['symbol'],g['symbol']\n",
    "        return gg*MW*sab\n",
    "    else:\n",
    "        MW,gg= mW['value'],g['value']\n",
    "        return gg*MW*sab\n",
    "\n",
    "sab = sp.symbols('s_{ab}',real=True)\n",
    "ghww_2hdm(sab)\n",
    "ghww_2hdm(0.1)"
   ]
  },
  {
   "cell_type": "code",
   "execution_count": 10,
   "metadata": {
    "Collapsed": "false"
   },
   "outputs": [
    {
     "data": {
      "image/png": "[encoded data removed]",
      "text/latex": [
       "$\\displaystyle 5.958998455609756$"
      ],
      "text/plain": [
       "5.958998455609756"
      ]
     },
     "execution_count": 10,
     "metadata": {},
     "output_type": "execute_result"
    }
   ],
   "source": [
    "def ghzz_2hdm(sab):\n",
    "    global mZ,g\n",
    "    if issymbolic(sab):\n",
    "        MZ,gg= mZ['symbol'],g['symbol']\n",
    "        return gg*MZ*sab\n",
    "    else:\n",
    "        MZ,gg= mZ['value'],g['value']\n",
    "        return gg*MZ*sab\n",
    "\n",
    "#sab = sp.symbols('s_{ab}',real=True)\n",
    "ghzz_2hdm(sab)\n",
    "ghzz_2hdm(0.1)"
   ]
  },
  {
   "cell_type": "markdown",
   "metadata": {
    "Collapsed": "false"
   },
   "source": [
    "## Signal Strenght functions\n",
    "\n",
    "Now, we need to define our Higgs streght signals in terms of our variables"
   ]
  },
  {
   "cell_type": "code",
   "execution_count": 11,
   "metadata": {
    "Collapsed": "false"
   },
   "outputs": [],
   "source": [
    "rtautau = lambda Cab,tb,Att,Abb: Rtata(\n",
    "    ghtt_2hdm(np.arccos(Cab) + np.arctan(tb),Att,Cab,tb),\n",
    "    ghbb_2hdm(np.arccos(Cab) + np.arctan(tb),Abb,Cab,tb),\n",
    "    ghtautau_2hdm(np.arccos(Cab) + np.arctan(tb),1,Cab,tb))\n",
    "\n",
    "rbb = lambda Cab,tb,Att,Abb:Rbotbot(\n",
    "    ghtt_2hdm(np.arccos(Cab) + np.arctan(tb),Att,Cab,tb),\n",
    "    ghbb_2hdm(np.arccos(Cab) + np.arctan(tb),Abb,Cab,tb))\n",
    "\n",
    "rgaga = lambda Cab,tb,Att,Abb,mCH:Rgaga(\n",
    "    ghtt_2hdm(np.arccos(Cab) + np.arctan(tb),Att,Cab,tb),\n",
    "    ghbb_2hdm(np.arccos(Cab) + np.arctan(tb),Abb,Cab,tb),\n",
    "    ghww_2hdm(np.sqrt(1 - Cab**2)), 0, mCH)\n",
    "\n",
    "rww = lambda Cab,tb,Att,Abb:RWW(\n",
    "    ghtt_2hdm(np.arccos(Cab) + np.arctan(tb),Att,Cab,tb),\n",
    "    ghbb_2hdm(np.arccos(Cab) + np.arctan(tb),Abb,Cab,tb),\n",
    "    ghww_2hdm(np.sqrt(1 - Cab**2)))\n",
    "\n",
    "rzz = lambda Cab,tb,Att,Abb:RWW(\n",
    "    ghtt_2hdm(np.arccos(Cab) + np.arctan(tb),Att,Cab,tb),\n",
    "    ghbb_2hdm(np.arccos(Cab) + np.arctan(tb),Abb,Cab,tb),\n",
    "    ghzz_2hdm(np.sqrt(1 - Cab**2)))"
   ]
  },
  {
   "cell_type": "markdown",
   "metadata": {
    "Collapsed": "false"
   },
   "source": [
    "## Allowed parameter space\n",
    "\n",
    "We calculate the allowed parameter space to each signal"
   ]
  },
  {
   "cell_type": "code",
   "execution_count": 18,
   "metadata": {
    "Collapsed": "false"
   },
   "outputs": [
    {
     "name": "stdout",
     "output_type": "stream",
     "text": [
      "CPU times: user 4 µs, sys: 1 µs, total: 5 µs\n",
      "Wall time: 10.5 µs\n"
     ]
    },
    {
     "data": {
      "text/html": [
       "<div>\n",
       "<style scoped>\n",
       "    .dataframe tbody tr th:only-of-type {\n",
       "        vertical-align: middle;\n",
       "    }\n",
       "\n",
       "    .dataframe tbody tr th {\n",
       "        vertical-align: top;\n",
       "    }\n",
       "\n",
       "    .dataframe thead th {\n",
       "        text-align: right;\n",
       "    }\n",
       "</style>\n",
       "<table border=\"1\" class=\"dataframe\">\n",
       "  <thead>\n",
       "    <tr style=\"text-align: right;\">\n",
       "      <th></th>\n",
       "      <th>Cab</th>\n",
       "      <th>tb</th>\n",
       "      <th>Att</th>\n",
       "      <th>Abb</th>\n",
       "      <th>Rtau</th>\n",
       "    </tr>\n",
       "  </thead>\n",
       "  <tbody>\n",
       "    <tr>\n",
       "      <th>0</th>\n",
       "      <td>-0.867174</td>\n",
       "      <td>3.593533</td>\n",
       "      <td>0.849444</td>\n",
       "      <td>0.656097</td>\n",
       "      <td>0.997407</td>\n",
       "    </tr>\n",
       "    <tr>\n",
       "      <th>1</th>\n",
       "      <td>0.648777</td>\n",
       "      <td>0.131701</td>\n",
       "      <td>0.298951</td>\n",
       "      <td>0.819538</td>\n",
       "      <td>1.247809</td>\n",
       "    </tr>\n",
       "    <tr>\n",
       "      <th>2</th>\n",
       "      <td>-0.858434</td>\n",
       "      <td>0.279609</td>\n",
       "      <td>0.943748</td>\n",
       "      <td>0.560845</td>\n",
       "      <td>1.091302</td>\n",
       "    </tr>\n",
       "    <tr>\n",
       "      <th>3</th>\n",
       "      <td>-0.160729</td>\n",
       "      <td>0.237664</td>\n",
       "      <td>0.929797</td>\n",
       "      <td>0.399633</td>\n",
       "      <td>1.250602</td>\n",
       "    </tr>\n",
       "    <tr>\n",
       "      <th>4</th>\n",
       "      <td>-0.924392</td>\n",
       "      <td>4.834409</td>\n",
       "      <td>0.574465</td>\n",
       "      <td>0.607808</td>\n",
       "      <td>1.093167</td>\n",
       "    </tr>\n",
       "    <tr>\n",
       "      <th>5</th>\n",
       "      <td>-0.047458</td>\n",
       "      <td>0.178242</td>\n",
       "      <td>0.612531</td>\n",
       "      <td>0.383548</td>\n",
       "      <td>1.181641</td>\n",
       "    </tr>\n",
       "    <tr>\n",
       "      <th>6</th>\n",
       "      <td>0.901700</td>\n",
       "      <td>4.740884</td>\n",
       "      <td>0.622604</td>\n",
       "      <td>0.194728</td>\n",
       "      <td>1.223937</td>\n",
       "    </tr>\n",
       "    <tr>\n",
       "      <th>7</th>\n",
       "      <td>-0.210693</td>\n",
       "      <td>0.312409</td>\n",
       "      <td>0.873957</td>\n",
       "      <td>0.118492</td>\n",
       "      <td>1.081291</td>\n",
       "    </tr>\n",
       "    <tr>\n",
       "      <th>8</th>\n",
       "      <td>-0.977343</td>\n",
       "      <td>4.770535</td>\n",
       "      <td>0.524656</td>\n",
       "      <td>0.768112</td>\n",
       "      <td>1.147454</td>\n",
       "    </tr>\n",
       "    <tr>\n",
       "      <th>9</th>\n",
       "      <td>-0.997032</td>\n",
       "      <td>0.174629</td>\n",
       "      <td>0.942300</td>\n",
       "      <td>0.552801</td>\n",
       "      <td>1.166997</td>\n",
       "    </tr>\n",
       "    <tr>\n",
       "      <th>10</th>\n",
       "      <td>-0.810317</td>\n",
       "      <td>3.747998</td>\n",
       "      <td>0.979973</td>\n",
       "      <td>0.684746</td>\n",
       "      <td>1.134832</td>\n",
       "    </tr>\n",
       "    <tr>\n",
       "      <th>11</th>\n",
       "      <td>0.985181</td>\n",
       "      <td>2.987291</td>\n",
       "      <td>0.766150</td>\n",
       "      <td>0.351588</td>\n",
       "      <td>0.977708</td>\n",
       "    </tr>\n",
       "    <tr>\n",
       "      <th>12</th>\n",
       "      <td>0.961423</td>\n",
       "      <td>3.094062</td>\n",
       "      <td>0.751432</td>\n",
       "      <td>0.587656</td>\n",
       "      <td>0.961936</td>\n",
       "    </tr>\n",
       "    <tr>\n",
       "      <th>13</th>\n",
       "      <td>-0.364617</td>\n",
       "      <td>0.346210</td>\n",
       "      <td>0.909299</td>\n",
       "      <td>0.341409</td>\n",
       "      <td>1.065712</td>\n",
       "    </tr>\n",
       "    <tr>\n",
       "      <th>14</th>\n",
       "      <td>0.898477</td>\n",
       "      <td>2.846461</td>\n",
       "      <td>0.983224</td>\n",
       "      <td>0.733474</td>\n",
       "      <td>1.094799</td>\n",
       "    </tr>\n",
       "    <tr>\n",
       "      <th>15</th>\n",
       "      <td>-0.752720</td>\n",
       "      <td>0.528719</td>\n",
       "      <td>0.321844</td>\n",
       "      <td>0.983311</td>\n",
       "      <td>1.006168</td>\n",
       "    </tr>\n",
       "    <tr>\n",
       "      <th>16</th>\n",
       "      <td>0.791173</td>\n",
       "      <td>3.763802</td>\n",
       "      <td>0.908852</td>\n",
       "      <td>0.364904</td>\n",
       "      <td>1.051784</td>\n",
       "    </tr>\n",
       "    <tr>\n",
       "      <th>17</th>\n",
       "      <td>-0.813838</td>\n",
       "      <td>4.948689</td>\n",
       "      <td>0.748238</td>\n",
       "      <td>0.204990</td>\n",
       "      <td>1.144613</td>\n",
       "    </tr>\n",
       "    <tr>\n",
       "      <th>18</th>\n",
       "      <td>0.914478</td>\n",
       "      <td>4.901522</td>\n",
       "      <td>0.536400</td>\n",
       "      <td>0.582897</td>\n",
       "      <td>1.056215</td>\n",
       "    </tr>\n",
       "    <tr>\n",
       "      <th>19</th>\n",
       "      <td>-0.807144</td>\n",
       "      <td>4.769933</td>\n",
       "      <td>0.740551</td>\n",
       "      <td>0.426297</td>\n",
       "      <td>1.019230</td>\n",
       "    </tr>\n",
       "    <tr>\n",
       "      <th>20</th>\n",
       "      <td>-0.127606</td>\n",
       "      <td>0.274412</td>\n",
       "      <td>0.746797</td>\n",
       "      <td>0.318361</td>\n",
       "      <td>1.138254</td>\n",
       "    </tr>\n",
       "    <tr>\n",
       "      <th>21</th>\n",
       "      <td>-0.303423</td>\n",
       "      <td>0.382999</td>\n",
       "      <td>0.638461</td>\n",
       "      <td>0.651479</td>\n",
       "      <td>1.161390</td>\n",
       "    </tr>\n",
       "    <tr>\n",
       "      <th>22</th>\n",
       "      <td>-0.336048</td>\n",
       "      <td>0.541796</td>\n",
       "      <td>0.110249</td>\n",
       "      <td>0.711342</td>\n",
       "      <td>0.951223</td>\n",
       "    </tr>\n",
       "    <tr>\n",
       "      <th>23</th>\n",
       "      <td>-0.285192</td>\n",
       "      <td>0.371044</td>\n",
       "      <td>0.612479</td>\n",
       "      <td>0.004971</td>\n",
       "      <td>1.226779</td>\n",
       "    </tr>\n",
       "    <tr>\n",
       "      <th>24</th>\n",
       "      <td>0.991257</td>\n",
       "      <td>3.936931</td>\n",
       "      <td>0.567492</td>\n",
       "      <td>0.507679</td>\n",
       "      <td>0.984622</td>\n",
       "    </tr>\n",
       "    <tr>\n",
       "      <th>25</th>\n",
       "      <td>0.757109</td>\n",
       "      <td>4.071893</td>\n",
       "      <td>0.955449</td>\n",
       "      <td>0.869899</td>\n",
       "      <td>1.187378</td>\n",
       "    </tr>\n",
       "    <tr>\n",
       "      <th>26</th>\n",
       "      <td>-0.494512</td>\n",
       "      <td>0.409007</td>\n",
       "      <td>0.666989</td>\n",
       "      <td>0.862110</td>\n",
       "      <td>1.188342</td>\n",
       "    </tr>\n",
       "    <tr>\n",
       "      <th>27</th>\n",
       "      <td>-0.866598</td>\n",
       "      <td>4.466719</td>\n",
       "      <td>0.739650</td>\n",
       "      <td>0.561934</td>\n",
       "      <td>1.204516</td>\n",
       "    </tr>\n",
       "    <tr>\n",
       "      <th>28</th>\n",
       "      <td>-0.878654</td>\n",
       "      <td>4.335871</td>\n",
       "      <td>0.769130</td>\n",
       "      <td>0.200131</td>\n",
       "      <td>1.260393</td>\n",
       "    </tr>\n",
       "    <tr>\n",
       "      <th>29</th>\n",
       "      <td>-0.917941</td>\n",
       "      <td>3.497782</td>\n",
       "      <td>0.787480</td>\n",
       "      <td>0.607323</td>\n",
       "      <td>1.012081</td>\n",
       "    </tr>\n",
       "    <tr>\n",
       "      <th>...</th>\n",
       "      <td>...</td>\n",
       "      <td>...</td>\n",
       "      <td>...</td>\n",
       "      <td>...</td>\n",
       "      <td>...</td>\n",
       "    </tr>\n",
       "    <tr>\n",
       "      <th>1777</th>\n",
       "      <td>-0.352155</td>\n",
       "      <td>0.319091</td>\n",
       "      <td>0.877797</td>\n",
       "      <td>0.200526</td>\n",
       "      <td>1.270696</td>\n",
       "    </tr>\n",
       "    <tr>\n",
       "      <th>1778</th>\n",
       "      <td>-0.021655</td>\n",
       "      <td>0.225380</td>\n",
       "      <td>0.261982</td>\n",
       "      <td>0.820324</td>\n",
       "      <td>0.944576</td>\n",
       "    </tr>\n",
       "    <tr>\n",
       "      <th>1779</th>\n",
       "      <td>-0.832998</td>\n",
       "      <td>4.293841</td>\n",
       "      <td>0.772546</td>\n",
       "      <td>0.862342</td>\n",
       "      <td>1.050869</td>\n",
       "    </tr>\n",
       "    <tr>\n",
       "      <th>1780</th>\n",
       "      <td>-0.795739</td>\n",
       "      <td>0.445630</td>\n",
       "      <td>0.442342</td>\n",
       "      <td>0.849507</td>\n",
       "      <td>1.274862</td>\n",
       "    </tr>\n",
       "    <tr>\n",
       "      <th>1781</th>\n",
       "      <td>-0.475806</td>\n",
       "      <td>0.322062</td>\n",
       "      <td>0.943259</td>\n",
       "      <td>0.497752</td>\n",
       "      <td>1.205751</td>\n",
       "    </tr>\n",
       "    <tr>\n",
       "      <th>1782</th>\n",
       "      <td>-0.895615</td>\n",
       "      <td>3.514938</td>\n",
       "      <td>0.854988</td>\n",
       "      <td>0.833546</td>\n",
       "      <td>1.120260</td>\n",
       "    </tr>\n",
       "    <tr>\n",
       "      <th>1783</th>\n",
       "      <td>-0.317126</td>\n",
       "      <td>0.419041</td>\n",
       "      <td>0.617602</td>\n",
       "      <td>0.686858</td>\n",
       "      <td>1.017934</td>\n",
       "    </tr>\n",
       "    <tr>\n",
       "      <th>1784</th>\n",
       "      <td>-0.805099</td>\n",
       "      <td>4.567272</td>\n",
       "      <td>0.807127</td>\n",
       "      <td>0.763283</td>\n",
       "      <td>1.143852</td>\n",
       "    </tr>\n",
       "    <tr>\n",
       "      <th>1785</th>\n",
       "      <td>-0.167532</td>\n",
       "      <td>0.293176</td>\n",
       "      <td>0.653158</td>\n",
       "      <td>0.476162</td>\n",
       "      <td>1.270867</td>\n",
       "    </tr>\n",
       "    <tr>\n",
       "      <th>1786</th>\n",
       "      <td>0.770709</td>\n",
       "      <td>3.949613</td>\n",
       "      <td>0.845493</td>\n",
       "      <td>0.921407</td>\n",
       "      <td>0.944688</td>\n",
       "    </tr>\n",
       "    <tr>\n",
       "      <th>1787</th>\n",
       "      <td>-0.453041</td>\n",
       "      <td>0.545766</td>\n",
       "      <td>0.052989</td>\n",
       "      <td>0.388600</td>\n",
       "      <td>1.207693</td>\n",
       "    </tr>\n",
       "    <tr>\n",
       "      <th>1788</th>\n",
       "      <td>-0.948643</td>\n",
       "      <td>3.638585</td>\n",
       "      <td>0.780207</td>\n",
       "      <td>0.445909</td>\n",
       "      <td>1.250612</td>\n",
       "    </tr>\n",
       "    <tr>\n",
       "      <th>1789</th>\n",
       "      <td>-0.974791</td>\n",
       "      <td>2.814647</td>\n",
       "      <td>0.877344</td>\n",
       "      <td>0.226899</td>\n",
       "      <td>0.985036</td>\n",
       "    </tr>\n",
       "    <tr>\n",
       "      <th>1790</th>\n",
       "      <td>-0.746610</td>\n",
       "      <td>4.254586</td>\n",
       "      <td>0.975267</td>\n",
       "      <td>0.537323</td>\n",
       "      <td>1.054997</td>\n",
       "    </tr>\n",
       "    <tr>\n",
       "      <th>1791</th>\n",
       "      <td>-0.913742</td>\n",
       "      <td>4.296741</td>\n",
       "      <td>0.687181</td>\n",
       "      <td>0.893187</td>\n",
       "      <td>1.220492</td>\n",
       "    </tr>\n",
       "    <tr>\n",
       "      <th>1792</th>\n",
       "      <td>-0.822348</td>\n",
       "      <td>3.941362</td>\n",
       "      <td>0.880931</td>\n",
       "      <td>0.268323</td>\n",
       "      <td>1.040404</td>\n",
       "    </tr>\n",
       "    <tr>\n",
       "      <th>1793</th>\n",
       "      <td>-0.634955</td>\n",
       "      <td>0.381629</td>\n",
       "      <td>0.771392</td>\n",
       "      <td>0.235792</td>\n",
       "      <td>1.160907</td>\n",
       "    </tr>\n",
       "    <tr>\n",
       "      <th>1794</th>\n",
       "      <td>-0.343095</td>\n",
       "      <td>0.564311</td>\n",
       "      <td>0.016061</td>\n",
       "      <td>0.530396</td>\n",
       "      <td>0.943363</td>\n",
       "    </tr>\n",
       "    <tr>\n",
       "      <th>1795</th>\n",
       "      <td>0.877161</td>\n",
       "      <td>3.560531</td>\n",
       "      <td>0.828099</td>\n",
       "      <td>0.545128</td>\n",
       "      <td>1.155278</td>\n",
       "    </tr>\n",
       "    <tr>\n",
       "      <th>1796</th>\n",
       "      <td>0.698999</td>\n",
       "      <td>4.444157</td>\n",
       "      <td>0.941743</td>\n",
       "      <td>0.701189</td>\n",
       "      <td>1.000849</td>\n",
       "    </tr>\n",
       "    <tr>\n",
       "      <th>1797</th>\n",
       "      <td>-0.769828</td>\n",
       "      <td>0.374548</td>\n",
       "      <td>0.764776</td>\n",
       "      <td>0.247484</td>\n",
       "      <td>1.067128</td>\n",
       "    </tr>\n",
       "    <tr>\n",
       "      <th>1798</th>\n",
       "      <td>-0.931672</td>\n",
       "      <td>3.284052</td>\n",
       "      <td>0.860091</td>\n",
       "      <td>0.596691</td>\n",
       "      <td>1.133029</td>\n",
       "    </tr>\n",
       "    <tr>\n",
       "      <th>1799</th>\n",
       "      <td>-0.995621</td>\n",
       "      <td>3.052371</td>\n",
       "      <td>0.787566</td>\n",
       "      <td>0.461584</td>\n",
       "      <td>1.075576</td>\n",
       "    </tr>\n",
       "    <tr>\n",
       "      <th>1800</th>\n",
       "      <td>-0.270288</td>\n",
       "      <td>0.371375</td>\n",
       "      <td>0.602058</td>\n",
       "      <td>0.282290</td>\n",
       "      <td>1.202077</td>\n",
       "    </tr>\n",
       "    <tr>\n",
       "      <th>1801</th>\n",
       "      <td>-0.634167</td>\n",
       "      <td>0.597891</td>\n",
       "      <td>0.144762</td>\n",
       "      <td>0.384930</td>\n",
       "      <td>0.968913</td>\n",
       "    </tr>\n",
       "    <tr>\n",
       "      <th>1802</th>\n",
       "      <td>0.870681</td>\n",
       "      <td>4.240348</td>\n",
       "      <td>0.721435</td>\n",
       "      <td>0.899826</td>\n",
       "      <td>1.254988</td>\n",
       "    </tr>\n",
       "    <tr>\n",
       "      <th>1803</th>\n",
       "      <td>-0.502531</td>\n",
       "      <td>0.578290</td>\n",
       "      <td>0.038926</td>\n",
       "      <td>0.683586</td>\n",
       "      <td>1.114575</td>\n",
       "    </tr>\n",
       "    <tr>\n",
       "      <th>1804</th>\n",
       "      <td>0.895581</td>\n",
       "      <td>3.492450</td>\n",
       "      <td>0.790757</td>\n",
       "      <td>0.475459</td>\n",
       "      <td>1.084893</td>\n",
       "    </tr>\n",
       "    <tr>\n",
       "      <th>1805</th>\n",
       "      <td>-0.954604</td>\n",
       "      <td>4.767691</td>\n",
       "      <td>0.574683</td>\n",
       "      <td>0.709756</td>\n",
       "      <td>1.242935</td>\n",
       "    </tr>\n",
       "    <tr>\n",
       "      <th>1806</th>\n",
       "      <td>-0.605893</td>\n",
       "      <td>0.381489</td>\n",
       "      <td>0.829236</td>\n",
       "      <td>0.841182</td>\n",
       "      <td>1.034682</td>\n",
       "    </tr>\n",
       "  </tbody>\n",
       "</table>\n",
       "<p>1807 rows × 5 columns</p>\n",
       "</div>"
      ],
      "text/plain": [
       "           Cab        tb       Att       Abb      Rtau\n",
       "0    -0.867174  3.593533  0.849444  0.656097  0.997407\n",
       "1     0.648777  0.131701  0.298951  0.819538  1.247809\n",
       "2    -0.858434  0.279609  0.943748  0.560845  1.091302\n",
       "3    -0.160729  0.237664  0.929797  0.399633  1.250602\n",
       "4    -0.924392  4.834409  0.574465  0.607808  1.093167\n",
       "5    -0.047458  0.178242  0.612531  0.383548  1.181641\n",
       "6     0.901700  4.740884  0.622604  0.194728  1.223937\n",
       "7    -0.210693  0.312409  0.873957  0.118492  1.081291\n",
       "8    -0.977343  4.770535  0.524656  0.768112  1.147454\n",
       "9    -0.997032  0.174629  0.942300  0.552801  1.166997\n",
       "10   -0.810317  3.747998  0.979973  0.684746  1.134832\n",
       "11    0.985181  2.987291  0.766150  0.351588  0.977708\n",
       "12    0.961423  3.094062  0.751432  0.587656  0.961936\n",
       "13   -0.364617  0.346210  0.909299  0.341409  1.065712\n",
       "14    0.898477  2.846461  0.983224  0.733474  1.094799\n",
       "15   -0.752720  0.528719  0.321844  0.983311  1.006168\n",
       "16    0.791173  3.763802  0.908852  0.364904  1.051784\n",
       "17   -0.813838  4.948689  0.748238  0.204990  1.144613\n",
       "18    0.914478  4.901522  0.536400  0.582897  1.056215\n",
       "19   -0.807144  4.769933  0.740551  0.426297  1.019230\n",
       "20   -0.127606  0.274412  0.746797  0.318361  1.138254\n",
       "21   -0.303423  0.382999  0.638461  0.651479  1.161390\n",
       "22   -0.336048  0.541796  0.110249  0.711342  0.951223\n",
       "23   -0.285192  0.371044  0.612479  0.004971  1.226779\n",
       "24    0.991257  3.936931  0.567492  0.507679  0.984622\n",
       "25    0.757109  4.071893  0.955449  0.869899  1.187378\n",
       "26   -0.494512  0.409007  0.666989  0.862110  1.188342\n",
       "27   -0.866598  4.466719  0.739650  0.561934  1.204516\n",
       "28   -0.878654  4.335871  0.769130  0.200131  1.260393\n",
       "29   -0.917941  3.497782  0.787480  0.607323  1.012081\n",
       "...        ...       ...       ...       ...       ...\n",
       "1777 -0.352155  0.319091  0.877797  0.200526  1.270696\n",
       "1778 -0.021655  0.225380  0.261982  0.820324  0.944576\n",
       "1779 -0.832998  4.293841  0.772546  0.862342  1.050869\n",
       "1780 -0.795739  0.445630  0.442342  0.849507  1.274862\n",
       "1781 -0.475806  0.322062  0.943259  0.497752  1.205751\n",
       "1782 -0.895615  3.514938  0.854988  0.833546  1.120260\n",
       "1783 -0.317126  0.419041  0.617602  0.686858  1.017934\n",
       "1784 -0.805099  4.567272  0.807127  0.763283  1.143852\n",
       "1785 -0.167532  0.293176  0.653158  0.476162  1.270867\n",
       "1786  0.770709  3.949613  0.845493  0.921407  0.944688\n",
       "1787 -0.453041  0.545766  0.052989  0.388600  1.207693\n",
       "1788 -0.948643  3.638585  0.780207  0.445909  1.250612\n",
       "1789 -0.974791  2.814647  0.877344  0.226899  0.985036\n",
       "1790 -0.746610  4.254586  0.975267  0.537323  1.054997\n",
       "1791 -0.913742  4.296741  0.687181  0.893187  1.220492\n",
       "1792 -0.822348  3.941362  0.880931  0.268323  1.040404\n",
       "1793 -0.634955  0.381629  0.771392  0.235792  1.160907\n",
       "1794 -0.343095  0.564311  0.016061  0.530396  0.943363\n",
       "1795  0.877161  3.560531  0.828099  0.545128  1.155278\n",
       "1796  0.698999  4.444157  0.941743  0.701189  1.000849\n",
       "1797 -0.769828  0.374548  0.764776  0.247484  1.067128\n",
       "1798 -0.931672  3.284052  0.860091  0.596691  1.133029\n",
       "1799 -0.995621  3.052371  0.787566  0.461584  1.075576\n",
       "1800 -0.270288  0.371375  0.602058  0.282290  1.202077\n",
       "1801 -0.634167  0.597891  0.144762  0.384930  0.968913\n",
       "1802  0.870681  4.240348  0.721435  0.899826  1.254988\n",
       "1803 -0.502531  0.578290  0.038926  0.683586  1.114575\n",
       "1804  0.895581  3.492450  0.790757  0.475459  1.084893\n",
       "1805 -0.954604  4.767691  0.574683  0.709756  1.242935\n",
       "1806 -0.605893  0.381489  0.829236  0.841182  1.034682\n",
       "\n",
       "[1807 rows x 5 columns]"
      ]
     },
     "execution_count": 18,
     "metadata": {},
     "output_type": "execute_result"
    }
   ],
   "source": [
    "%time\n",
    "data1s_rtau,data2s_rtau =Rtau.parameter_space_pandas(\n",
    "    rtautau,n=100000,Cab=[-1.0,1.0],tb=[0.1,5.0],\n",
    "    Att=[0.0,1.0],Abb=[0.0,1.0])\n",
    "data1s_rtau"
   ]
  },
  {
   "cell_type": "code",
   "execution_count": 13,
   "metadata": {
    "Collapsed": "false"
   },
   "outputs": [
    {
     "data": {
      "text/plain": [
       "'Rtau'"
      ]
     },
     "execution_count": 13,
     "metadata": {},
     "output_type": "execute_result"
    }
   ],
   "source": [
    "Rtau.latex_name"
   ]
  },
  {
   "cell_type": "code",
   "execution_count": 16,
   "metadata": {
    "Collapsed": "false"
   },
   "outputs": [
    {
     "data": {
      "image/png": "[encoded data removed]",
      "text/plain": [
       "<Figure size 432x288 with 1 Axes>"
      ]
     },
     "metadata": {
      "needs_background": "light"
     },
     "output_type": "display_data"
    }
   ],
   "source": [
    "latex_names = {'Cab':r'$\\cos(\\alpha -\\beta)$',\n",
    "        'tb':r'$\\tan(\\beta)$',\n",
    "        'Att':r'$A_{tt}$','Abb':r'$A_{bb}$','Rtau':r'$R_{\\tau}$',\n",
    "        'Rb':r'$R_b$',\n",
    "        'Rgamma':r'$R_{\\gamma}$',\n",
    "        'Rw':r'$R_{W}$',\n",
    "        'Rz':r'$R_{Z}$'}\n",
    "plot_df(data1s_rtau,colx='Cab',coly='tb',\n",
    "        latex_names=latex_names,color='b')"
   ]
  },
  {
   "cell_type": "code",
   "execution_count": 15,
   "metadata": {
    "Collapsed": "false"
   },
   "outputs": [
    {
     "data": {
      "image/png": "[encoded data removed]",
      "text/plain": [
       "<Figure size 432x288 with 4 Axes>"
      ]
     },
     "metadata": {
      "needs_background": "light"
     },
     "output_type": "display_data"
    }
   ],
   "source": [
    "#list(data1s_rtau.keys()).remove('Cab')\n",
    "plot_tabledf(data1s_rtau,coly='Rtau',latex_names=latex_names)"
   ]
  },
  {
   "cell_type": "code",
   "execution_count": null,
   "metadata": {
    "Collapsed": "false"
   },
   "outputs": [],
   "source": []
  },
  {
   "cell_type": "code",
   "execution_count": 13,
   "metadata": {
    "Collapsed": "false"
   },
   "outputs": [],
   "source": []
  }
 ],
 "metadata": {
  "kernelspec": {
   "display_name": "Python 3",
   "language": "python",
   "name": "python3"
  },
  "language_info": {
   "codemirror_mode": {
    "name": "ipython",
    "version": 3
   },
   "file_extension": ".py",
   "mimetype": "text/x-python",
   "name": "python",
   "nbconvert_exporter": "python",
   "pygments_lexer": "ipython3",
   "version": "3.7.3"
  }
 },
 "nbformat": 4,
 "nbformat_minor": 4
}
